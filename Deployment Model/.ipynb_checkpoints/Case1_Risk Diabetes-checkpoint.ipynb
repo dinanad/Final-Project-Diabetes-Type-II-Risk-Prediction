{
 "cells": [
  {
   "cell_type": "code",
   "execution_count": 1,
   "metadata": {},
   "outputs": [],
   "source": [
    "import pandas as pd\n",
    "import numpy as np\n",
    "import seaborn as sns\n",
    "from matplotlib import pyplot as plt\n",
    "import matplotlib.style as style\n",
    "import warnings\n",
    "warnings.filterwarnings('ignore')\n",
    "\n",
    "# store elements as dictionary keys and their counts as dictionary values\n",
    "from collections import Counter"
   ]
  },
  {
   "cell_type": "code",
   "execution_count": 3,
   "metadata": {},
   "outputs": [],
   "source": [
    "data = pd.read_csv(\"data_diabetes1.csv\")\n",
    "#data.drop(['id'], axis=1, inplace=True)\n",
    "df = data.copy()"
   ]
  },
  {
   "cell_type": "code",
   "execution_count": 4,
   "metadata": {
    "scrolled": true
   },
   "outputs": [
    {
     "data": {
      "text/html": [
       "<div>\n",
       "<style scoped>\n",
       "    .dataframe tbody tr th:only-of-type {\n",
       "        vertical-align: middle;\n",
       "    }\n",
       "\n",
       "    .dataframe tbody tr th {\n",
       "        vertical-align: top;\n",
       "    }\n",
       "\n",
       "    .dataframe thead th {\n",
       "        text-align: right;\n",
       "    }\n",
       "</style>\n",
       "<table border=\"1\" class=\"dataframe\">\n",
       "  <thead>\n",
       "    <tr style=\"text-align: right;\">\n",
       "      <th></th>\n",
       "      <th>case1_risk_diabet</th>\n",
       "      <th>arthritis</th>\n",
       "      <th>gout</th>\n",
       "      <th>thyroid</th>\n",
       "      <th>chronic_bronchitis</th>\n",
       "      <th>abdominal_pain</th>\n",
       "      <th>gallstones</th>\n",
       "      <th>diabetic_relative</th>\n",
       "      <th>overweight</th>\n",
       "      <th>high_bp</th>\n",
       "      <th>...</th>\n",
       "      <th>creatinine_mg/dL</th>\n",
       "      <th>globulin_g/dL</th>\n",
       "      <th>glucose_mg/dL</th>\n",
       "      <th>potassium_mmol/L</th>\n",
       "      <th>sodium_mmol/L</th>\n",
       "      <th>calcium_mg/dL</th>\n",
       "      <th>triglycerides_mg/dL</th>\n",
       "      <th>uricacid_mg/dL</th>\n",
       "      <th>vigorous_recreational_activities</th>\n",
       "      <th>minutes_sedentary_activity</th>\n",
       "    </tr>\n",
       "  </thead>\n",
       "  <tbody>\n",
       "    <tr>\n",
       "      <th>0</th>\n",
       "      <td>risk_diabet</td>\n",
       "      <td>yes</td>\n",
       "      <td>no</td>\n",
       "      <td>no</td>\n",
       "      <td>no</td>\n",
       "      <td>no</td>\n",
       "      <td>no</td>\n",
       "      <td>yes</td>\n",
       "      <td>yes</td>\n",
       "      <td>yes</td>\n",
       "      <td>...</td>\n",
       "      <td>0.92</td>\n",
       "      <td>2.9</td>\n",
       "      <td>85.0</td>\n",
       "      <td>4.0</td>\n",
       "      <td>141.0</td>\n",
       "      <td>9.2</td>\n",
       "      <td>95.0</td>\n",
       "      <td>5.8</td>\n",
       "      <td>no</td>\n",
       "      <td>300.0</td>\n",
       "    </tr>\n",
       "    <tr>\n",
       "      <th>1</th>\n",
       "      <td>not_diabet</td>\n",
       "      <td>NaN</td>\n",
       "      <td>NaN</td>\n",
       "      <td>NaN</td>\n",
       "      <td>NaN</td>\n",
       "      <td>NaN</td>\n",
       "      <td>NaN</td>\n",
       "      <td>NaN</td>\n",
       "      <td>no</td>\n",
       "      <td>no</td>\n",
       "      <td>...</td>\n",
       "      <td>0.81</td>\n",
       "      <td>2.7</td>\n",
       "      <td>94.0</td>\n",
       "      <td>4.4</td>\n",
       "      <td>144.0</td>\n",
       "      <td>9.6</td>\n",
       "      <td>92.0</td>\n",
       "      <td>8.0</td>\n",
       "      <td>no</td>\n",
       "      <td>240.0</td>\n",
       "    </tr>\n",
       "    <tr>\n",
       "      <th>2</th>\n",
       "      <td>risk_diabet</td>\n",
       "      <td>yes</td>\n",
       "      <td>no</td>\n",
       "      <td>no</td>\n",
       "      <td>no</td>\n",
       "      <td>no</td>\n",
       "      <td>no</td>\n",
       "      <td>yes</td>\n",
       "      <td>yes</td>\n",
       "      <td>yes</td>\n",
       "      <td>...</td>\n",
       "      <td>0.58</td>\n",
       "      <td>3.2</td>\n",
       "      <td>116.0</td>\n",
       "      <td>4.4</td>\n",
       "      <td>144.0</td>\n",
       "      <td>9.5</td>\n",
       "      <td>72.0</td>\n",
       "      <td>4.5</td>\n",
       "      <td>no</td>\n",
       "      <td>120.0</td>\n",
       "    </tr>\n",
       "    <tr>\n",
       "      <th>3</th>\n",
       "      <td>risk_diabet</td>\n",
       "      <td>yes</td>\n",
       "      <td>no</td>\n",
       "      <td>yes</td>\n",
       "      <td>no</td>\n",
       "      <td>no</td>\n",
       "      <td>yes</td>\n",
       "      <td>yes</td>\n",
       "      <td>yes</td>\n",
       "      <td>yes</td>\n",
       "      <td>...</td>\n",
       "      <td>1.32</td>\n",
       "      <td>3.3</td>\n",
       "      <td>96.0</td>\n",
       "      <td>4.1</td>\n",
       "      <td>141.0</td>\n",
       "      <td>9.9</td>\n",
       "      <td>132.0</td>\n",
       "      <td>6.2</td>\n",
       "      <td>no</td>\n",
       "      <td>600.0</td>\n",
       "    </tr>\n",
       "    <tr>\n",
       "      <th>4</th>\n",
       "      <td>risk_diabet</td>\n",
       "      <td>no</td>\n",
       "      <td>no</td>\n",
       "      <td>no</td>\n",
       "      <td>no</td>\n",
       "      <td>no</td>\n",
       "      <td>no</td>\n",
       "      <td>no</td>\n",
       "      <td>no</td>\n",
       "      <td>no</td>\n",
       "      <td>...</td>\n",
       "      <td>1.13</td>\n",
       "      <td>3.1</td>\n",
       "      <td>98.0</td>\n",
       "      <td>4.9</td>\n",
       "      <td>140.0</td>\n",
       "      <td>9.4</td>\n",
       "      <td>59.0</td>\n",
       "      <td>4.2</td>\n",
       "      <td>yes</td>\n",
       "      <td>420.0</td>\n",
       "    </tr>\n",
       "  </tbody>\n",
       "</table>\n",
       "<p>5 rows × 51 columns</p>\n",
       "</div>"
      ],
      "text/plain": [
       "  case1_risk_diabet arthritis gout thyroid chronic_bronchitis abdominal_pain  \\\n",
       "0       risk_diabet       yes   no      no                 no             no   \n",
       "1        not_diabet       NaN  NaN     NaN                NaN            NaN   \n",
       "2       risk_diabet       yes   no      no                 no             no   \n",
       "3       risk_diabet       yes   no     yes                 no             no   \n",
       "4       risk_diabet        no   no      no                 no             no   \n",
       "\n",
       "  gallstones diabetic_relative overweight high_bp  ... creatinine_mg/dL  \\\n",
       "0         no               yes        yes     yes  ...             0.92   \n",
       "1        NaN               NaN         no      no  ...             0.81   \n",
       "2         no               yes        yes     yes  ...             0.58   \n",
       "3        yes               yes        yes     yes  ...             1.32   \n",
       "4         no                no         no      no  ...             1.13   \n",
       "\n",
       "   globulin_g/dL  glucose_mg/dL  potassium_mmol/L  sodium_mmol/L  \\\n",
       "0            2.9           85.0               4.0          141.0   \n",
       "1            2.7           94.0               4.4          144.0   \n",
       "2            3.2          116.0               4.4          144.0   \n",
       "3            3.3           96.0               4.1          141.0   \n",
       "4            3.1           98.0               4.9          140.0   \n",
       "\n",
       "   calcium_mg/dL  triglycerides_mg/dL uricacid_mg/dL  \\\n",
       "0            9.2                 95.0            5.8   \n",
       "1            9.6                 92.0            8.0   \n",
       "2            9.5                 72.0            4.5   \n",
       "3            9.9                132.0            6.2   \n",
       "4            9.4                 59.0            4.2   \n",
       "\n",
       "  vigorous_recreational_activities  minutes_sedentary_activity  \n",
       "0                               no                       300.0  \n",
       "1                               no                       240.0  \n",
       "2                               no                       120.0  \n",
       "3                               no                       600.0  \n",
       "4                              yes                       420.0  \n",
       "\n",
       "[5 rows x 51 columns]"
      ]
     },
     "execution_count": 4,
     "metadata": {},
     "output_type": "execute_result"
    }
   ],
   "source": [
    "df.head()"
   ]
  },
  {
   "cell_type": "code",
   "execution_count": 5,
   "metadata": {},
   "outputs": [
    {
     "name": "stdout",
     "output_type": "stream",
     "text": [
      "<class 'pandas.core.frame.DataFrame'>\n",
      "RangeIndex: 5478 entries, 0 to 5477\n",
      "Data columns (total 51 columns):\n",
      " #   Column                            Non-Null Count  Dtype  \n",
      "---  ------                            --------------  -----  \n",
      " 0   case1_risk_diabet                 5478 non-null   object \n",
      " 1   arthritis                         5195 non-null   object \n",
      " 2   gout                              5203 non-null   object \n",
      " 3   thyroid                           5195 non-null   object \n",
      " 4   chronic_bronchitis                5204 non-null   object \n",
      " 5   abdominal_pain                    5205 non-null   object \n",
      " 6   gallstones                        5197 non-null   object \n",
      " 7   diabetic_relative                 5219 non-null   object \n",
      " 8   overweight                        5477 non-null   object \n",
      " 9   high_bp                           5478 non-null   object \n",
      " 10  high_chol                         5472 non-null   object \n",
      " 11  pulse_60                          5218 non-null   float64\n",
      " 12  systolic                          4848 non-null   float64\n",
      " 13  diastolic                         4848 non-null   float64\n",
      " 14  total_chol_mg/dL                  5129 non-null   float64\n",
      " 15  bmi                               5379 non-null   float64\n",
      " 16  arm_circumference                 5200 non-null   float64\n",
      " 17  gender                            5478 non-null   object \n",
      " 18  race                              5478 non-null   object \n",
      " 19  WH_ratio                          5128 non-null   float64\n",
      " 20  smoked                            5478 non-null   object \n",
      " 21  head%_fat                         2803 non-null   float64\n",
      " 22  larm%_fat                         2770 non-null   float64\n",
      " 23  lleg%_fat                         2698 non-null   float64\n",
      " 24  rarm%_fat                         2700 non-null   float64\n",
      " 25  rleg%_fat                         2661 non-null   float64\n",
      " 26  trunk%_fat                        2614 non-null   float64\n",
      " 27  total_bone_density                2461 non-null   float64\n",
      " 28  total%_fat                        2452 non-null   float64\n",
      " 29  arm%_fat                          2630 non-null   float64\n",
      " 30  leg%_fat                          2603 non-null   float64\n",
      " 31  feritin                           5166 non-null   float64\n",
      " 32  iron_ug/dL                        5121 non-null   float64\n",
      " 33  uibc_ug/dL                        5102 non-null   float64\n",
      " 34  tibc_ug/dL                        5096 non-null   float64\n",
      " 35  transferrin                       5096 non-null   float64\n",
      " 36  alanine_IU/L                      5106 non-null   float64\n",
      " 37  albumin_g/dL                      5108 non-null   float64\n",
      " 38  alkaline_IU/L                     5106 non-null   float64\n",
      " 39  aspartate_IU/L                    5090 non-null   float64\n",
      " 40  chloride_mmol/L                   5108 non-null   float64\n",
      " 41  creatinine_mg/dL                  5107 non-null   float64\n",
      " 42  globulin_g/dL                     5105 non-null   float64\n",
      " 43  glucose_mg/dL                     5105 non-null   float64\n",
      " 44  potassium_mmol/L                  5105 non-null   float64\n",
      " 45  sodium_mmol/L                     5108 non-null   float64\n",
      " 46  calcium_mg/dL                     5105 non-null   float64\n",
      " 47  triglycerides_mg/dL               5105 non-null   float64\n",
      " 48  uricacid_mg/dL                    5105 non-null   float64\n",
      " 49  vigorous_recreational_activities  5478 non-null   object \n",
      " 50  minutes_sedentary_activity        5436 non-null   float64\n",
      "dtypes: float64(36), object(15)\n",
      "memory usage: 2.1+ MB\n"
     ]
    }
   ],
   "source": [
    "df.info()"
   ]
  },
  {
   "cell_type": "code",
   "execution_count": 6,
   "metadata": {},
   "outputs": [
    {
     "name": "stdout",
     "output_type": "stream",
     "text": [
      "<class 'pandas.core.frame.DataFrame'>\n",
      "RangeIndex: 5478 entries, 0 to 5477\n",
      "Data columns (total 10 columns):\n",
      " #   Column             Non-Null Count  Dtype  \n",
      "---  ------             --------------  -----  \n",
      " 0   case1_risk_diabet  5478 non-null   object \n",
      " 1   arthritis          5195 non-null   object \n",
      " 2   diabetic_relative  5219 non-null   object \n",
      " 3   overweight         5477 non-null   object \n",
      " 4   high_bp            5478 non-null   object \n",
      " 5   high_chol          5472 non-null   object \n",
      " 6   systolic           4848 non-null   float64\n",
      " 7   bmi                5379 non-null   float64\n",
      " 8   arm_circumference  5200 non-null   float64\n",
      " 9   WH_ratio           5128 non-null   float64\n",
      "dtypes: float64(4), object(6)\n",
      "memory usage: 428.1+ KB\n"
     ]
    }
   ],
   "source": [
    "df = data[['case1_risk_diabet', 'arthritis', \n",
    "       'diabetic_relative', 'overweight', 'high_bp', 'high_chol', 'systolic',\n",
    "       'bmi', 'arm_circumference', 'WH_ratio',]]\n",
    "df.info()"
   ]
  },
  {
   "cell_type": "code",
   "execution_count": 7,
   "metadata": {},
   "outputs": [
    {
     "name": "stdout",
     "output_type": "stream",
     "text": [
      "<class 'pandas.core.frame.DataFrame'>\n",
      "RangeIndex: 4318 entries, 0 to 4317\n",
      "Data columns (total 10 columns):\n",
      " #   Column             Non-Null Count  Dtype  \n",
      "---  ------             --------------  -----  \n",
      " 0   case1_risk_diabet  4318 non-null   object \n",
      " 1   arthritis          4318 non-null   object \n",
      " 2   diabetic_relative  4318 non-null   object \n",
      " 3   overweight         4318 non-null   object \n",
      " 4   high_bp            4318 non-null   object \n",
      " 5   high_chol          4318 non-null   object \n",
      " 6   systolic           4318 non-null   float64\n",
      " 7   bmi                4318 non-null   float64\n",
      " 8   arm_circumference  4318 non-null   float64\n",
      " 9   WH_ratio           4318 non-null   float64\n",
      "dtypes: float64(4), object(6)\n",
      "memory usage: 337.5+ KB\n"
     ]
    }
   ],
   "source": [
    "df.dropna(inplace=True)\n",
    "df.reset_index(inplace=True, drop=True)\n",
    "df.info()"
   ]
  },
  {
   "cell_type": "markdown",
   "metadata": {},
   "source": [
    "#### Setting traget and features"
   ]
  },
  {
   "cell_type": "code",
   "execution_count": 8,
   "metadata": {},
   "outputs": [],
   "source": [
    "random_state=101"
   ]
  },
  {
   "cell_type": "code",
   "execution_count": 9,
   "metadata": {},
   "outputs": [
    {
     "data": {
      "text/plain": [
       "1    2568\n",
       "0    1750\n",
       "Name: case1_risk_diabet, dtype: int64"
      ]
     },
     "execution_count": 9,
     "metadata": {},
     "output_type": "execute_result"
    }
   ],
   "source": [
    "df['case1_risk_diabet'].replace({'not_diabet':0,'risk_diabet':1},inplace=True)\n",
    "df.case1_risk_diabet.value_counts()"
   ]
  },
  {
   "cell_type": "code",
   "execution_count": 10,
   "metadata": {},
   "outputs": [],
   "source": [
    "target = df['case1_risk_diabet']\n",
    "features = df.drop(['case1_risk_diabet'], axis=1)"
   ]
  },
  {
   "cell_type": "code",
   "execution_count": 11,
   "metadata": {},
   "outputs": [],
   "source": [
    "numerical =  df.drop(['case1_risk_diabet'],axis=1).select_dtypes('number')\n",
    "categorical = df.select_dtypes('object')"
   ]
  },
  {
   "cell_type": "code",
   "execution_count": 12,
   "metadata": {},
   "outputs": [
    {
     "data": {
      "text/plain": [
       "array(['arthritis', 'diabetic_relative', 'overweight', 'high_bp',\n",
       "       'high_chol'], dtype=object)"
      ]
     },
     "execution_count": 12,
     "metadata": {},
     "output_type": "execute_result"
    }
   ],
   "source": [
    "categorical.columns.values"
   ]
  },
  {
   "cell_type": "code",
   "execution_count": 13,
   "metadata": {},
   "outputs": [],
   "source": [
    "features = pd.get_dummies(data=features, columns=categorical.columns.values, drop_first=True)"
   ]
  },
  {
   "cell_type": "code",
   "execution_count": 14,
   "metadata": {},
   "outputs": [],
   "source": [
    "### Default Parameter\n",
    "from sklearn.model_selection import train_test_split\n",
    "#### split data\n",
    "X_train, X_test, y_train, y_test = train_test_split(features, target, \n",
    "                                                    random_state=random_state, stratify=target)"
   ]
  },
  {
   "cell_type": "code",
   "execution_count": 15,
   "metadata": {},
   "outputs": [
    {
     "name": "stdout",
     "output_type": "stream",
     "text": [
      "3238 1080 3238 1080\n"
     ]
    }
   ],
   "source": [
    "# Print number of observations in X_train, X_test, y_train, and y_test\n",
    "print(len(X_train), len(X_test), len(y_train), len(y_test))"
   ]
  },
  {
   "cell_type": "markdown",
   "metadata": {},
   "source": [
    "#### Modelling"
   ]
  },
  {
   "cell_type": "code",
   "execution_count": 16,
   "metadata": {},
   "outputs": [],
   "source": [
    "from sklearn.metrics import confusion_matrix, accuracy_score, classification_report, recall_score\n",
    "from sklearn.metrics import roc_auc_score,roc_curve"
   ]
  },
  {
   "cell_type": "code",
   "execution_count": 17,
   "metadata": {},
   "outputs": [
    {
     "name": "stdout",
     "output_type": "stream",
     "text": [
      "[[232 206]\n",
      " [100 542]]\n",
      "----------------------------------------\n",
      "              precision    recall  f1-score   support\n",
      "\n",
      "           0       0.70      0.53      0.60       438\n",
      "           1       0.72      0.84      0.78       642\n",
      "\n",
      "    accuracy                           0.72      1080\n",
      "   macro avg       0.71      0.69      0.69      1080\n",
      "weighted avg       0.71      0.72      0.71      1080\n",
      "\n"
     ]
    }
   ],
   "source": [
    "from sklearn.svm import SVC\n",
    "svm_model = SVC(kernel = \"linear\",random_state=random_state).fit(X_train, y_train)\n",
    "y_pred = svm_model.predict(X_test)\n",
    "print(confusion_matrix(y_test, y_pred))\n",
    "print('----------------------------------------')\n",
    "print(classification_report(y_test, y_pred))"
   ]
  },
  {
   "cell_type": "code",
   "execution_count": 18,
   "metadata": {},
   "outputs": [
    {
     "name": "stdout",
     "output_type": "stream",
     "text": [
      "[[169 269]\n",
      " [ 65 577]]\n",
      "----------------------------------------\n",
      "              precision    recall  f1-score   support\n",
      "\n",
      "           0       0.72      0.39      0.50       438\n",
      "           1       0.68      0.90      0.78       642\n",
      "\n",
      "    accuracy                           0.69      1080\n",
      "   macro avg       0.70      0.64      0.64      1080\n",
      "weighted avg       0.70      0.69      0.66      1080\n",
      "\n"
     ]
    }
   ],
   "source": [
    "model = SVC(C=0.00005, kernel='linear', gamma=0.1, probability=True).fit(X_train, y_train)\n",
    "y_pred = model.predict(X_test)\n",
    "print(confusion_matrix(y_test, y_pred))\n",
    "print('----------------------------------------')\n",
    "print(classification_report(y_test, y_pred))"
   ]
  },
  {
   "cell_type": "code",
   "execution_count": 19,
   "metadata": {},
   "outputs": [],
   "source": [
    "prediction_proba = model.predict_proba(X_test)"
   ]
  },
  {
   "cell_type": "code",
   "execution_count": 20,
   "metadata": {},
   "outputs": [
    {
     "data": {
      "text/plain": [
       "array([[0.61720044, 0.38279956],\n",
       "       [0.66609643, 0.33390357],\n",
       "       [0.50974403, 0.49025597],\n",
       "       ...,\n",
       "       [0.63009916, 0.36990084],\n",
       "       [0.46582858, 0.53417142],\n",
       "       [0.5739531 , 0.4260469 ]])"
      ]
     },
     "execution_count": 20,
     "metadata": {},
     "output_type": "execute_result"
    }
   ],
   "source": [
    "prediction_proba"
   ]
  },
  {
   "cell_type": "code",
   "execution_count": 21,
   "metadata": {},
   "outputs": [
    {
     "data": {
      "text/plain": [
       "2973    1\n",
       "2170    0\n",
       "1221    1\n",
       "2470    0\n",
       "3712    0\n",
       "       ..\n",
       "2053    1\n",
       "1501    1\n",
       "4187    1\n",
       "3023    1\n",
       "1810    1\n",
       "Name: case1_risk_diabet, Length: 1080, dtype: int64"
      ]
     },
     "execution_count": 21,
     "metadata": {},
     "output_type": "execute_result"
    }
   ],
   "source": [
    "y_test"
   ]
  },
  {
   "cell_type": "markdown",
   "metadata": {},
   "source": [
    "## Export Model / Deployment Model"
   ]
  },
  {
   "cell_type": "code",
   "execution_count": 22,
   "metadata": {},
   "outputs": [
    {
     "name": "stdout",
     "output_type": "stream",
     "text": [
      "<class 'pandas.core.frame.DataFrame'>\n",
      "RangeIndex: 4318 entries, 0 to 4317\n",
      "Data columns (total 10 columns):\n",
      " #   Column             Non-Null Count  Dtype  \n",
      "---  ------             --------------  -----  \n",
      " 0   case1_risk_diabet  4318 non-null   int64  \n",
      " 1   arthritis          4318 non-null   object \n",
      " 2   diabetic_relative  4318 non-null   object \n",
      " 3   overweight         4318 non-null   object \n",
      " 4   high_bp            4318 non-null   object \n",
      " 5   high_chol          4318 non-null   object \n",
      " 6   systolic           4318 non-null   float64\n",
      " 7   bmi                4318 non-null   float64\n",
      " 8   arm_circumference  4318 non-null   float64\n",
      " 9   WH_ratio           4318 non-null   float64\n",
      "dtypes: float64(4), int64(1), object(5)\n",
      "memory usage: 337.5+ KB\n"
     ]
    }
   ],
   "source": [
    "df.info()"
   ]
  },
  {
   "cell_type": "code",
   "execution_count": 23,
   "metadata": {},
   "outputs": [
    {
     "data": {
      "text/plain": [
       "Index(['case1_risk_diabet', 'arthritis', 'diabetic_relative', 'overweight',\n",
       "       'high_bp', 'high_chol', 'systolic', 'bmi', 'arm_circumference',\n",
       "       'WH_ratio'],\n",
       "      dtype='object')"
      ]
     },
     "execution_count": 23,
     "metadata": {},
     "output_type": "execute_result"
    }
   ],
   "source": [
    "df.columns"
   ]
  },
  {
   "cell_type": "code",
   "execution_count": 24,
   "metadata": {},
   "outputs": [],
   "source": [
    "x_y = df[df.columns.values]"
   ]
  },
  {
   "cell_type": "code",
   "execution_count": 25,
   "metadata": {
    "ExecuteTime": {
     "end_time": "2020-10-23T01:48:31.034898Z",
     "start_time": "2020-10-23T01:48:31.032398Z"
    }
   },
   "outputs": [],
   "source": [
    "import pickle\n",
    "import pandas as pd"
   ]
  },
  {
   "cell_type": "code",
   "execution_count": 26,
   "metadata": {
    "ExecuteTime": {
     "end_time": "2020-10-23T01:51:29.214933Z",
     "start_time": "2020-10-23T01:51:29.128896Z"
    }
   },
   "outputs": [],
   "source": [
    "filename = 'finalized_model.sav'\n",
    "pickle.dump(model, open(filename, 'wb'))"
   ]
  },
  {
   "cell_type": "code",
   "execution_count": 27,
   "metadata": {
    "ExecuteTime": {
     "end_time": "2020-10-23T01:51:29.698452Z",
     "start_time": "2020-10-23T01:51:29.693938Z"
    }
   },
   "outputs": [],
   "source": [
    "filename = 'x_dummies_column.sav'\n",
    "pickle.dump(features.columns, open(filename , 'wb'))"
   ]
  },
  {
   "cell_type": "code",
   "execution_count": 28,
   "metadata": {
    "ExecuteTime": {
     "end_time": "2020-10-23T01:51:29.999180Z",
     "start_time": "2020-10-23T01:51:29.996678Z"
    }
   },
   "outputs": [],
   "source": [
    "# filename = 'real_colomn.sav'\n",
    "# pickle.dump(x_y.drop('Price',axis=1).columns, open(filename , 'wb'))"
   ]
  },
  {
   "cell_type": "code",
   "execution_count": 29,
   "metadata": {
    "ExecuteTime": {
     "end_time": "2020-10-23T01:51:30.172861Z",
     "start_time": "2020-10-23T01:51:30.165868Z"
    }
   },
   "outputs": [
    {
     "data": {
      "text/plain": [
       "array(['yes', 'no'], dtype=object)"
      ]
     },
     "execution_count": 29,
     "metadata": {},
     "output_type": "execute_result"
    }
   ],
   "source": [
    "x_y.arthritis.unique()"
   ]
  },
  {
   "cell_type": "code",
   "execution_count": 30,
   "metadata": {},
   "outputs": [
    {
     "data": {
      "text/plain": [
       "array(['yes', 'no'], dtype=object)"
      ]
     },
     "execution_count": 30,
     "metadata": {},
     "output_type": "execute_result"
    }
   ],
   "source": [
    "x_y['diabetic_relative'].unique()"
   ]
  },
  {
   "cell_type": "code",
   "execution_count": 31,
   "metadata": {},
   "outputs": [
    {
     "data": {
      "text/plain": [
       "array(['yes', 'no'], dtype=object)"
      ]
     },
     "execution_count": 31,
     "metadata": {},
     "output_type": "execute_result"
    }
   ],
   "source": [
    "x_y['overweight'].unique()"
   ]
  },
  {
   "cell_type": "code",
   "execution_count": 32,
   "metadata": {},
   "outputs": [
    {
     "data": {
      "text/plain": [
       "array(['yes', 'no'], dtype=object)"
      ]
     },
     "execution_count": 32,
     "metadata": {},
     "output_type": "execute_result"
    }
   ],
   "source": [
    "x_y['high_bp'].unique()"
   ]
  },
  {
   "cell_type": "code",
   "execution_count": 33,
   "metadata": {},
   "outputs": [
    {
     "data": {
      "text/plain": [
       "array(['no', 'yes'], dtype=object)"
      ]
     },
     "execution_count": 33,
     "metadata": {},
     "output_type": "execute_result"
    }
   ],
   "source": [
    "x_y['high_chol'].unique()"
   ]
  },
  {
   "cell_type": "code",
   "execution_count": null,
   "metadata": {},
   "outputs": [],
   "source": []
  },
  {
   "cell_type": "code",
   "execution_count": 34,
   "metadata": {
    "ExecuteTime": {
     "end_time": "2020-10-23T01:51:30.801567Z",
     "start_time": "2020-10-23T01:51:30.697054Z"
    }
   },
   "outputs": [],
   "source": [
    "model = pickle.load(open('finalized_model.sav','rb'))\n",
    "# real_columns = pickle.load(open('real_colomn.sav','rb'))\n",
    "one_hot_columns = pickle.load(open('x_dummies_column.sav','rb'))\n",
    "\n",
    "def prediction(data):\n",
    "    df = pd.DataFrame(data,index=[0])\n",
    "    df = pd.get_dummies(df)\n",
    "    df = df.reindex(columns=one_hot_columns, )\n",
    "    hasil = model.predict(df)\n",
    "    return round(hasil[0])"
   ]
  },
  {
   "cell_type": "code",
   "execution_count": 35,
   "metadata": {},
   "outputs": [
    {
     "data": {
      "text/plain": [
       "case1_risk_diabet       1\n",
       "arthritis              no\n",
       "diabetic_relative      no\n",
       "overweight             no\n",
       "high_bp                no\n",
       "high_chol             yes\n",
       "systolic              108\n",
       "bmi                  21.3\n",
       "arm_circumference    30.8\n",
       "WH_ratio             0.95\n",
       "Name: 1, dtype: object"
      ]
     },
     "execution_count": 35,
     "metadata": {},
     "output_type": "execute_result"
    }
   ],
   "source": [
    "df.iloc[1,:]"
   ]
  },
  {
   "cell_type": "code",
   "execution_count": 36,
   "metadata": {
    "ExecuteTime": {
     "end_time": "2020-10-23T01:51:31.163948Z",
     "start_time": "2020-10-23T01:51:31.160437Z"
    }
   },
   "outputs": [],
   "source": [
    "inputan = {'arthritis': 'yes', 'diabetic_relative': 'yes',\n",
    "           'overweight': 'yes', 'high_bp': 'yes', 'high_chol': 'no','systolic':108,\n",
    "          'bmi':31.7,'arm_circumference':32, 'WH_ratio':0.93,}"
   ]
  },
  {
   "cell_type": "code",
   "execution_count": 37,
   "metadata": {
    "ExecuteTime": {
     "end_time": "2020-10-23T01:51:31.410009Z",
     "start_time": "2020-10-23T01:51:31.385994Z"
    }
   },
   "outputs": [
    {
     "name": "stdout",
     "output_type": "stream",
     "text": [
      "Hasil prediksi : 1\n",
      "Hasil proba : [[0.5201378 0.4798622]]\n"
     ]
    }
   ],
   "source": [
    "df = pd.DataFrame(inputan,index=[0])\n",
    "# one hot encoding (categorical item berubah menjadi numerical item (columns))\n",
    "df = pd.get_dummies(df)\n",
    "df = df.reindex(columns=one_hot_columns, fill_value=0)\n",
    "hasil_prediction = model.predict(df)\n",
    "print(f'Hasil prediksi : {hasil_prediction[0]}')\n",
    "probability = model.predict_proba(df)\n",
    "print(f'Hasil proba : {probability}')"
   ]
  },
  {
   "cell_type": "code",
   "execution_count": 38,
   "metadata": {},
   "outputs": [
    {
     "data": {
      "text/plain": [
       "0.47986219513778594"
      ]
     },
     "execution_count": 38,
     "metadata": {},
     "output_type": "execute_result"
    }
   ],
   "source": [
    "probability[0,1]"
   ]
  },
  {
   "cell_type": "code",
   "execution_count": 39,
   "metadata": {},
   "outputs": [
    {
     "name": "stdout",
     "output_type": "stream",
     "text": [
      "You are in Moderate Risk Diabetes\n"
     ]
    }
   ],
   "source": [
    "if probability[0,1] < 0.3:\n",
    "    print('You are in Low Risk Diabetes')\n",
    "elif probability[0,1] < 0.6:\n",
    "    print('You are in Moderate Risk Diabetes')\n",
    "else:\n",
    "    print('You are in High Risk Diabetes')"
   ]
  },
  {
   "cell_type": "code",
   "execution_count": 40,
   "metadata": {},
   "outputs": [],
   "source": [
    "inputan = {'arthritis': 'yes', 'gout': 'yes','thyroid': 'yes','chronic_bronchitis': 'yes', \n",
    "           'abdominal_pain': 'yes', 'gallstones': 'yes', 'diabetic_relative': 'yes',\n",
    "           'overweight': 'yes', 'high_bp': 'yes', 'high_chol': 'yes',\n",
    "          'bmi':40,'arm_circumference':32, 'WH_ratio':0.93,\n",
    "          'albumin':4,'glucose_mg/dL':198, 'triglycerides_mg/dL':100,'uricacid_mg/dL':4.2}"
   ]
  },
  {
   "cell_type": "code",
   "execution_count": 41,
   "metadata": {},
   "outputs": [
    {
     "name": "stdout",
     "output_type": "stream",
     "text": [
      "Hasil prediksi : 0\n",
      "Hasil proba : [[0.93601244 0.06398756]]\n"
     ]
    }
   ],
   "source": [
    "df = pd.DataFrame(inputan,index=[0])\n",
    "# one hot encoding (categorical item berubah menjadi numerical item (columns))\n",
    "df = pd.get_dummies(df)\n",
    "df = df.reindex(columns=one_hot_columns, fill_value=0)\n",
    "hasil_prediction = model.predict(df)\n",
    "print(f'Hasil prediksi : {hasil_prediction[0]}')\n",
    "probability = model.predict_proba(df)\n",
    "print(f'Hasil proba : {probability}')"
   ]
  },
  {
   "cell_type": "code",
   "execution_count": 42,
   "metadata": {},
   "outputs": [
    {
     "name": "stdout",
     "output_type": "stream",
     "text": [
      "You are in Low Risk Diabetes\n"
     ]
    }
   ],
   "source": [
    "if probability[0,1] < 0.3:\n",
    "    print('You are in Low Risk Diabetes')\n",
    "elif probability[0,1] < 0.6:\n",
    "    print('You are in Moderate Risk Diabetes')\n",
    "else:\n",
    "    print('You are in High Risk Diabetes')"
   ]
  },
  {
   "cell_type": "code",
   "execution_count": null,
   "metadata": {},
   "outputs": [],
   "source": []
  },
  {
   "cell_type": "code",
   "execution_count": null,
   "metadata": {},
   "outputs": [],
   "source": []
  },
  {
   "cell_type": "code",
   "execution_count": null,
   "metadata": {},
   "outputs": [],
   "source": []
  },
  {
   "cell_type": "code",
   "execution_count": null,
   "metadata": {},
   "outputs": [],
   "source": []
  },
  {
   "cell_type": "code",
   "execution_count": null,
   "metadata": {},
   "outputs": [],
   "source": []
  },
  {
   "cell_type": "code",
   "execution_count": null,
   "metadata": {},
   "outputs": [],
   "source": []
  },
  {
   "cell_type": "code",
   "execution_count": null,
   "metadata": {},
   "outputs": [],
   "source": []
  }
 ],
 "metadata": {
  "kernelspec": {
   "display_name": "Python 3",
   "language": "python",
   "name": "python3"
  },
  "language_info": {
   "codemirror_mode": {
    "name": "ipython",
    "version": 3
   },
   "file_extension": ".py",
   "mimetype": "text/x-python",
   "name": "python",
   "nbconvert_exporter": "python",
   "pygments_lexer": "ipython3",
   "version": "3.7.6"
  }
 },
 "nbformat": 4,
 "nbformat_minor": 4
}
