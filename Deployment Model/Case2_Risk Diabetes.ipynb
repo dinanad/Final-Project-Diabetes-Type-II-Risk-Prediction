{
 "cells": [
  {
   "cell_type": "code",
   "execution_count": 1,
   "metadata": {},
   "outputs": [],
   "source": [
    "import pandas as pd\n",
    "import numpy as np\n",
    "import seaborn as sns\n",
    "from matplotlib import pyplot as plt\n",
    "import matplotlib.style as style\n",
    "import warnings\n",
    "warnings.filterwarnings('ignore')\n",
    "\n",
    "# store elements as dictionary keys and their counts as dictionary values\n",
    "from collections import Counter"
   ]
  },
  {
   "cell_type": "code",
   "execution_count": 2,
   "metadata": {},
   "outputs": [],
   "source": [
    "data = pd.read_csv(\"data_diabetes2.csv\")\n",
    "#data.drop(['id'], axis=1, inplace=True)\n",
    "df = data.copy()"
   ]
  },
  {
   "cell_type": "code",
   "execution_count": 3,
   "metadata": {
    "scrolled": true
   },
   "outputs": [
    {
     "data": {
      "text/html": [
       "<div>\n",
       "<style scoped>\n",
       "    .dataframe tbody tr th:only-of-type {\n",
       "        vertical-align: middle;\n",
       "    }\n",
       "\n",
       "    .dataframe tbody tr th {\n",
       "        vertical-align: top;\n",
       "    }\n",
       "\n",
       "    .dataframe thead th {\n",
       "        text-align: right;\n",
       "    }\n",
       "</style>\n",
       "<table border=\"1\" class=\"dataframe\">\n",
       "  <thead>\n",
       "    <tr style=\"text-align: right;\">\n",
       "      <th></th>\n",
       "      <th>case2_diabet</th>\n",
       "      <th>arthritis</th>\n",
       "      <th>gout</th>\n",
       "      <th>thyroid</th>\n",
       "      <th>chronic_bronchitis</th>\n",
       "      <th>abdominal_pain</th>\n",
       "      <th>gallstones</th>\n",
       "      <th>diabetic_relative</th>\n",
       "      <th>overweight</th>\n",
       "      <th>high_bp</th>\n",
       "      <th>...</th>\n",
       "      <th>creatinine_mg/dL</th>\n",
       "      <th>globulin_g/dL</th>\n",
       "      <th>glucose_mg/dL</th>\n",
       "      <th>potassium_mmol/L</th>\n",
       "      <th>sodium_mmol/L</th>\n",
       "      <th>calcium_mg/dL</th>\n",
       "      <th>triglycerides_mg/dL</th>\n",
       "      <th>uricacid_mg/dL</th>\n",
       "      <th>vigorous_recreational_activities</th>\n",
       "      <th>minutes_sedentary_activity</th>\n",
       "    </tr>\n",
       "  </thead>\n",
       "  <tbody>\n",
       "    <tr>\n",
       "      <th>0</th>\n",
       "      <td>prediabet/undiag</td>\n",
       "      <td>yes</td>\n",
       "      <td>no</td>\n",
       "      <td>no</td>\n",
       "      <td>no</td>\n",
       "      <td>no</td>\n",
       "      <td>no</td>\n",
       "      <td>yes</td>\n",
       "      <td>yes</td>\n",
       "      <td>yes</td>\n",
       "      <td>...</td>\n",
       "      <td>0.92</td>\n",
       "      <td>2.9</td>\n",
       "      <td>85.0</td>\n",
       "      <td>4.0</td>\n",
       "      <td>141.0</td>\n",
       "      <td>9.2</td>\n",
       "      <td>95.0</td>\n",
       "      <td>5.8</td>\n",
       "      <td>no</td>\n",
       "      <td>300.0</td>\n",
       "    </tr>\n",
       "    <tr>\n",
       "      <th>1</th>\n",
       "      <td>not_diabet</td>\n",
       "      <td>NaN</td>\n",
       "      <td>NaN</td>\n",
       "      <td>NaN</td>\n",
       "      <td>NaN</td>\n",
       "      <td>NaN</td>\n",
       "      <td>NaN</td>\n",
       "      <td>NaN</td>\n",
       "      <td>no</td>\n",
       "      <td>no</td>\n",
       "      <td>...</td>\n",
       "      <td>0.81</td>\n",
       "      <td>2.7</td>\n",
       "      <td>94.0</td>\n",
       "      <td>4.4</td>\n",
       "      <td>144.0</td>\n",
       "      <td>9.6</td>\n",
       "      <td>92.0</td>\n",
       "      <td>8.0</td>\n",
       "      <td>no</td>\n",
       "      <td>240.0</td>\n",
       "    </tr>\n",
       "    <tr>\n",
       "      <th>2</th>\n",
       "      <td>prediabet/undiag</td>\n",
       "      <td>yes</td>\n",
       "      <td>no</td>\n",
       "      <td>no</td>\n",
       "      <td>no</td>\n",
       "      <td>no</td>\n",
       "      <td>no</td>\n",
       "      <td>yes</td>\n",
       "      <td>yes</td>\n",
       "      <td>yes</td>\n",
       "      <td>...</td>\n",
       "      <td>0.58</td>\n",
       "      <td>3.2</td>\n",
       "      <td>116.0</td>\n",
       "      <td>4.4</td>\n",
       "      <td>144.0</td>\n",
       "      <td>9.5</td>\n",
       "      <td>72.0</td>\n",
       "      <td>4.5</td>\n",
       "      <td>no</td>\n",
       "      <td>120.0</td>\n",
       "    </tr>\n",
       "    <tr>\n",
       "      <th>3</th>\n",
       "      <td>prediabet/undiag</td>\n",
       "      <td>yes</td>\n",
       "      <td>no</td>\n",
       "      <td>yes</td>\n",
       "      <td>no</td>\n",
       "      <td>no</td>\n",
       "      <td>yes</td>\n",
       "      <td>yes</td>\n",
       "      <td>yes</td>\n",
       "      <td>yes</td>\n",
       "      <td>...</td>\n",
       "      <td>1.32</td>\n",
       "      <td>3.3</td>\n",
       "      <td>96.0</td>\n",
       "      <td>4.1</td>\n",
       "      <td>141.0</td>\n",
       "      <td>9.9</td>\n",
       "      <td>132.0</td>\n",
       "      <td>6.2</td>\n",
       "      <td>no</td>\n",
       "      <td>600.0</td>\n",
       "    </tr>\n",
       "    <tr>\n",
       "      <th>4</th>\n",
       "      <td>prediabet/undiag</td>\n",
       "      <td>no</td>\n",
       "      <td>no</td>\n",
       "      <td>no</td>\n",
       "      <td>no</td>\n",
       "      <td>no</td>\n",
       "      <td>no</td>\n",
       "      <td>no</td>\n",
       "      <td>no</td>\n",
       "      <td>no</td>\n",
       "      <td>...</td>\n",
       "      <td>1.13</td>\n",
       "      <td>3.1</td>\n",
       "      <td>98.0</td>\n",
       "      <td>4.9</td>\n",
       "      <td>140.0</td>\n",
       "      <td>9.4</td>\n",
       "      <td>59.0</td>\n",
       "      <td>4.2</td>\n",
       "      <td>yes</td>\n",
       "      <td>420.0</td>\n",
       "    </tr>\n",
       "  </tbody>\n",
       "</table>\n",
       "<p>5 rows × 51 columns</p>\n",
       "</div>"
      ],
      "text/plain": [
       "       case2_diabet arthritis gout thyroid chronic_bronchitis abdominal_pain  \\\n",
       "0  prediabet/undiag       yes   no      no                 no             no   \n",
       "1        not_diabet       NaN  NaN     NaN                NaN            NaN   \n",
       "2  prediabet/undiag       yes   no      no                 no             no   \n",
       "3  prediabet/undiag       yes   no     yes                 no             no   \n",
       "4  prediabet/undiag        no   no      no                 no             no   \n",
       "\n",
       "  gallstones diabetic_relative overweight high_bp  ... creatinine_mg/dL  \\\n",
       "0         no               yes        yes     yes  ...             0.92   \n",
       "1        NaN               NaN         no      no  ...             0.81   \n",
       "2         no               yes        yes     yes  ...             0.58   \n",
       "3        yes               yes        yes     yes  ...             1.32   \n",
       "4         no                no         no      no  ...             1.13   \n",
       "\n",
       "   globulin_g/dL  glucose_mg/dL  potassium_mmol/L  sodium_mmol/L  \\\n",
       "0            2.9           85.0               4.0          141.0   \n",
       "1            2.7           94.0               4.4          144.0   \n",
       "2            3.2          116.0               4.4          144.0   \n",
       "3            3.3           96.0               4.1          141.0   \n",
       "4            3.1           98.0               4.9          140.0   \n",
       "\n",
       "   calcium_mg/dL  triglycerides_mg/dL uricacid_mg/dL  \\\n",
       "0            9.2                 95.0            5.8   \n",
       "1            9.6                 92.0            8.0   \n",
       "2            9.5                 72.0            4.5   \n",
       "3            9.9                132.0            6.2   \n",
       "4            9.4                 59.0            4.2   \n",
       "\n",
       "  vigorous_recreational_activities  minutes_sedentary_activity  \n",
       "0                               no                       300.0  \n",
       "1                               no                       240.0  \n",
       "2                               no                       120.0  \n",
       "3                               no                       600.0  \n",
       "4                              yes                       420.0  \n",
       "\n",
       "[5 rows x 51 columns]"
      ]
     },
     "execution_count": 3,
     "metadata": {},
     "output_type": "execute_result"
    }
   ],
   "source": [
    "df.head()"
   ]
  },
  {
   "cell_type": "code",
   "execution_count": 4,
   "metadata": {},
   "outputs": [
    {
     "name": "stdout",
     "output_type": "stream",
     "text": [
      "<class 'pandas.core.frame.DataFrame'>\n",
      "RangeIndex: 5478 entries, 0 to 5477\n",
      "Data columns (total 51 columns):\n",
      " #   Column                            Non-Null Count  Dtype  \n",
      "---  ------                            --------------  -----  \n",
      " 0   case2_diabet                      4640 non-null   object \n",
      " 1   arthritis                         5195 non-null   object \n",
      " 2   gout                              5203 non-null   object \n",
      " 3   thyroid                           5195 non-null   object \n",
      " 4   chronic_bronchitis                5204 non-null   object \n",
      " 5   abdominal_pain                    5205 non-null   object \n",
      " 6   gallstones                        5197 non-null   object \n",
      " 7   diabetic_relative                 5219 non-null   object \n",
      " 8   overweight                        5477 non-null   object \n",
      " 9   high_bp                           5478 non-null   object \n",
      " 10  high_chol                         5472 non-null   object \n",
      " 11  pulse_60                          5218 non-null   float64\n",
      " 12  systolic                          4848 non-null   float64\n",
      " 13  diastolic                         4848 non-null   float64\n",
      " 14  total_chol_mg/dL                  5129 non-null   float64\n",
      " 15  bmi                               5379 non-null   float64\n",
      " 16  arm_circumference                 5200 non-null   float64\n",
      " 17  gender                            5478 non-null   object \n",
      " 18  race                              5478 non-null   object \n",
      " 19  WH_ratio                          5128 non-null   float64\n",
      " 20  smoked                            5478 non-null   object \n",
      " 21  head%_fat                         5478 non-null   float64\n",
      " 22  larm%_fat                         2770 non-null   float64\n",
      " 23  lleg%_fat                         2698 non-null   float64\n",
      " 24  rarm%_fat                         2700 non-null   float64\n",
      " 25  rleg%_fat                         2661 non-null   float64\n",
      " 26  trunk%_fat                        2614 non-null   float64\n",
      " 27  total_bone_density                2461 non-null   float64\n",
      " 28  total%_fat                        2452 non-null   float64\n",
      " 29  arm%_fat                          2630 non-null   float64\n",
      " 30  leg%_fat                          2603 non-null   float64\n",
      " 31  feritin                           5166 non-null   float64\n",
      " 32  iron_ug/dL                        5121 non-null   float64\n",
      " 33  uibc_ug/dL                        5102 non-null   float64\n",
      " 34  tibc_ug/dL                        5096 non-null   float64\n",
      " 35  transferrin                       5096 non-null   float64\n",
      " 36  alanine_IU/L                      5106 non-null   float64\n",
      " 37  albumin_g/dL                      5108 non-null   float64\n",
      " 38  alkaline_IU/L                     5106 non-null   float64\n",
      " 39  aspartate_IU/L                    5090 non-null   float64\n",
      " 40  chloride_mmol/L                   5108 non-null   float64\n",
      " 41  creatinine_mg/dL                  5107 non-null   float64\n",
      " 42  globulin_g/dL                     5105 non-null   float64\n",
      " 43  glucose_mg/dL                     5105 non-null   float64\n",
      " 44  potassium_mmol/L                  5105 non-null   float64\n",
      " 45  sodium_mmol/L                     5108 non-null   float64\n",
      " 46  calcium_mg/dL                     5105 non-null   float64\n",
      " 47  triglycerides_mg/dL               5105 non-null   float64\n",
      " 48  uricacid_mg/dL                    5105 non-null   float64\n",
      " 49  vigorous_recreational_activities  5478 non-null   object \n",
      " 50  minutes_sedentary_activity        5436 non-null   float64\n",
      "dtypes: float64(36), object(15)\n",
      "memory usage: 2.1+ MB\n"
     ]
    }
   ],
   "source": [
    "df.info()"
   ]
  },
  {
   "cell_type": "code",
   "execution_count": 5,
   "metadata": {},
   "outputs": [
    {
     "name": "stdout",
     "output_type": "stream",
     "text": [
      "<class 'pandas.core.frame.DataFrame'>\n",
      "RangeIndex: 5478 entries, 0 to 5477\n",
      "Data columns (total 11 columns):\n",
      " #   Column                            Non-Null Count  Dtype  \n",
      "---  ------                            --------------  -----  \n",
      " 0   case2_diabet                      4640 non-null   object \n",
      " 1   arthritis                         5195 non-null   object \n",
      " 2   overweight                        5477 non-null   object \n",
      " 3   high_bp                           5478 non-null   object \n",
      " 4   high_chol                         5472 non-null   object \n",
      " 5   systolic                          4848 non-null   float64\n",
      " 6   bmi                               5379 non-null   float64\n",
      " 7   WH_ratio                          5128 non-null   float64\n",
      " 8   head%_fat                         5478 non-null   float64\n",
      " 9   glucose_mg/dL                     5105 non-null   float64\n",
      " 10  vigorous_recreational_activities  5478 non-null   object \n",
      "dtypes: float64(5), object(6)\n",
      "memory usage: 470.9+ KB\n"
     ]
    }
   ],
   "source": [
    "df = data[['case2_diabet', 'arthritis', 'overweight', 'high_bp', 'high_chol',\n",
    "       'systolic', 'bmi', 'WH_ratio', 'head%_fat', 'glucose_mg/dL',\n",
    "       'vigorous_recreational_activities']]\n",
    "df.info()"
   ]
  },
  {
   "cell_type": "code",
   "execution_count": 6,
   "metadata": {},
   "outputs": [
    {
     "name": "stdout",
     "output_type": "stream",
     "text": [
      "<class 'pandas.core.frame.DataFrame'>\n",
      "RangeIndex: 3495 entries, 0 to 3494\n",
      "Data columns (total 11 columns):\n",
      " #   Column                            Non-Null Count  Dtype  \n",
      "---  ------                            --------------  -----  \n",
      " 0   case2_diabet                      3495 non-null   object \n",
      " 1   arthritis                         3495 non-null   object \n",
      " 2   overweight                        3495 non-null   object \n",
      " 3   high_bp                           3495 non-null   object \n",
      " 4   high_chol                         3495 non-null   object \n",
      " 5   systolic                          3495 non-null   float64\n",
      " 6   bmi                               3495 non-null   float64\n",
      " 7   WH_ratio                          3495 non-null   float64\n",
      " 8   head%_fat                         3495 non-null   float64\n",
      " 9   glucose_mg/dL                     3495 non-null   float64\n",
      " 10  vigorous_recreational_activities  3495 non-null   object \n",
      "dtypes: float64(5), object(6)\n",
      "memory usage: 300.5+ KB\n"
     ]
    }
   ],
   "source": [
    "df.dropna(inplace=True)\n",
    "df.reset_index(inplace=True, drop=True)\n",
    "df.info()"
   ]
  },
  {
   "cell_type": "markdown",
   "metadata": {},
   "source": [
    "#### Setting traget and features"
   ]
  },
  {
   "cell_type": "code",
   "execution_count": 7,
   "metadata": {},
   "outputs": [],
   "source": [
    "random_state=101"
   ]
  },
  {
   "cell_type": "code",
   "execution_count": 8,
   "metadata": {},
   "outputs": [
    {
     "data": {
      "text/plain": [
       "1    1847\n",
       "0    1648\n",
       "Name: case2_diabet, dtype: int64"
      ]
     },
     "execution_count": 8,
     "metadata": {},
     "output_type": "execute_result"
    }
   ],
   "source": [
    "df['case2_diabet'].replace({'not_diabet':0,'prediabet/undiag':1},inplace=True)\n",
    "df.case2_diabet.value_counts()"
   ]
  },
  {
   "cell_type": "code",
   "execution_count": 9,
   "metadata": {},
   "outputs": [],
   "source": [
    "target = df['case2_diabet']\n",
    "features = df.drop(['case2_diabet'], axis=1)"
   ]
  },
  {
   "cell_type": "code",
   "execution_count": 10,
   "metadata": {},
   "outputs": [],
   "source": [
    "numerical =  df.drop(['case2_diabet'],axis=1).select_dtypes('number')\n",
    "categorical = df.select_dtypes('object')"
   ]
  },
  {
   "cell_type": "code",
   "execution_count": 11,
   "metadata": {},
   "outputs": [
    {
     "data": {
      "text/plain": [
       "array(['arthritis', 'overweight', 'high_bp', 'high_chol',\n",
       "       'vigorous_recreational_activities'], dtype=object)"
      ]
     },
     "execution_count": 11,
     "metadata": {},
     "output_type": "execute_result"
    }
   ],
   "source": [
    "categorical.columns.values"
   ]
  },
  {
   "cell_type": "code",
   "execution_count": 12,
   "metadata": {},
   "outputs": [],
   "source": [
    "features = pd.get_dummies(data=features, columns=categorical.columns.values, drop_first=True)"
   ]
  },
  {
   "cell_type": "code",
   "execution_count": 13,
   "metadata": {},
   "outputs": [],
   "source": [
    "### Default Parameter\n",
    "from sklearn.model_selection import train_test_split\n",
    "#### split data\n",
    "X_train, X_test, y_train, y_test = train_test_split(features, target, \n",
    "                                                    random_state=random_state, stratify=target)"
   ]
  },
  {
   "cell_type": "code",
   "execution_count": 14,
   "metadata": {},
   "outputs": [
    {
     "name": "stdout",
     "output_type": "stream",
     "text": [
      "2621 874 2621 874\n"
     ]
    }
   ],
   "source": [
    "# Print number of observations in X_train, X_test, y_train, and y_test\n",
    "print(len(X_train), len(X_test), len(y_train), len(y_test))"
   ]
  },
  {
   "cell_type": "markdown",
   "metadata": {},
   "source": [
    "#### Modelling"
   ]
  },
  {
   "cell_type": "code",
   "execution_count": 15,
   "metadata": {},
   "outputs": [],
   "source": [
    "from sklearn.metrics import confusion_matrix, accuracy_score, classification_report, recall_score\n",
    "from sklearn.metrics import roc_auc_score,roc_curve"
   ]
  },
  {
   "cell_type": "code",
   "execution_count": 16,
   "metadata": {},
   "outputs": [
    {
     "name": "stdout",
     "output_type": "stream",
     "text": [
      "[[309 103]\n",
      " [104 358]]\n",
      "----------------------------------------\n",
      "              precision    recall  f1-score   support\n",
      "\n",
      "           0       0.75      0.75      0.75       412\n",
      "           1       0.78      0.77      0.78       462\n",
      "\n",
      "    accuracy                           0.76       874\n",
      "   macro avg       0.76      0.76      0.76       874\n",
      "weighted avg       0.76      0.76      0.76       874\n",
      "\n"
     ]
    }
   ],
   "source": [
    "from sklearn.svm import SVC\n",
    "svm_model = SVC(kernel = \"linear\",random_state=random_state).fit(X_train, y_train)\n",
    "y_pred = svm_model.predict(X_test)\n",
    "print(confusion_matrix(y_test, y_pred))\n",
    "print('----------------------------------------')\n",
    "print(classification_report(y_test, y_pred))"
   ]
  },
  {
   "cell_type": "code",
   "execution_count": 17,
   "metadata": {},
   "outputs": [
    {
     "name": "stdout",
     "output_type": "stream",
     "text": [
      "[[ 559  677]\n",
      " [ 140 1245]]\n",
      "              precision    recall  f1-score   support\n",
      "\n",
      "           0       0.80      0.45      0.58      1236\n",
      "           1       0.65      0.90      0.75      1385\n",
      "\n",
      "    accuracy                           0.69      2621\n",
      "   macro avg       0.72      0.68      0.67      2621\n",
      "weighted avg       0.72      0.69      0.67      2621\n",
      "\n",
      "----------------------------------------\n",
      "[[171 241]\n",
      " [ 39 423]]\n",
      "              precision    recall  f1-score   support\n",
      "\n",
      "           0       0.81      0.42      0.55       412\n",
      "           1       0.64      0.92      0.75       462\n",
      "\n",
      "    accuracy                           0.68       874\n",
      "   macro avg       0.73      0.67      0.65       874\n",
      "weighted avg       0.72      0.68      0.66       874\n",
      "\n"
     ]
    }
   ],
   "source": [
    "model = SVC(C=2e-06,kernel='linear', probability=True).fit(X_train, y_train)\n",
    "\n",
    "y_pred = model.predict(X_train)\n",
    "print(confusion_matrix(y_train, y_pred))\n",
    "print(classification_report(y_train, y_pred))\n",
    "print('----------------------------------------')\n",
    "y_pred = model.predict(X_test)\n",
    "print(confusion_matrix(y_test, y_pred))\n",
    "print(classification_report(y_test, y_pred))"
   ]
  },
  {
   "cell_type": "code",
   "execution_count": 18,
   "metadata": {},
   "outputs": [],
   "source": [
    "prediction_proba = model.predict_proba(X_test)"
   ]
  },
  {
   "cell_type": "code",
   "execution_count": 19,
   "metadata": {},
   "outputs": [
    {
     "data": {
      "text/plain": [
       "array([[0.24303655, 0.75696345],\n",
       "       [0.31837832, 0.68162168],\n",
       "       [0.67201083, 0.32798917],\n",
       "       ...,\n",
       "       [0.35358992, 0.64641008],\n",
       "       [0.10351828, 0.89648172],\n",
       "       [0.87277449, 0.12722551]])"
      ]
     },
     "execution_count": 19,
     "metadata": {},
     "output_type": "execute_result"
    }
   ],
   "source": [
    "prediction_proba"
   ]
  },
  {
   "cell_type": "code",
   "execution_count": 20,
   "metadata": {},
   "outputs": [
    {
     "data": {
      "text/plain": [
       "2513    1\n",
       "806     1\n",
       "2505    1\n",
       "3130    1\n",
       "1550    1\n",
       "       ..\n",
       "330     1\n",
       "1249    1\n",
       "481     1\n",
       "1001    0\n",
       "3221    0\n",
       "Name: case2_diabet, Length: 874, dtype: int64"
      ]
     },
     "execution_count": 20,
     "metadata": {},
     "output_type": "execute_result"
    }
   ],
   "source": [
    "y_test"
   ]
  },
  {
   "cell_type": "markdown",
   "metadata": {},
   "source": [
    "## Export Model / Deployment Model"
   ]
  },
  {
   "cell_type": "code",
   "execution_count": 21,
   "metadata": {},
   "outputs": [
    {
     "name": "stdout",
     "output_type": "stream",
     "text": [
      "<class 'pandas.core.frame.DataFrame'>\n",
      "RangeIndex: 3495 entries, 0 to 3494\n",
      "Data columns (total 11 columns):\n",
      " #   Column                            Non-Null Count  Dtype  \n",
      "---  ------                            --------------  -----  \n",
      " 0   case2_diabet                      3495 non-null   int64  \n",
      " 1   arthritis                         3495 non-null   object \n",
      " 2   overweight                        3495 non-null   object \n",
      " 3   high_bp                           3495 non-null   object \n",
      " 4   high_chol                         3495 non-null   object \n",
      " 5   systolic                          3495 non-null   float64\n",
      " 6   bmi                               3495 non-null   float64\n",
      " 7   WH_ratio                          3495 non-null   float64\n",
      " 8   head%_fat                         3495 non-null   float64\n",
      " 9   glucose_mg/dL                     3495 non-null   float64\n",
      " 10  vigorous_recreational_activities  3495 non-null   object \n",
      "dtypes: float64(5), int64(1), object(5)\n",
      "memory usage: 300.5+ KB\n"
     ]
    }
   ],
   "source": [
    "df.info()"
   ]
  },
  {
   "cell_type": "code",
   "execution_count": 22,
   "metadata": {},
   "outputs": [
    {
     "data": {
      "text/plain": [
       "Index(['case2_diabet', 'arthritis', 'overweight', 'high_bp', 'high_chol',\n",
       "       'systolic', 'bmi', 'WH_ratio', 'head%_fat', 'glucose_mg/dL',\n",
       "       'vigorous_recreational_activities'],\n",
       "      dtype='object')"
      ]
     },
     "execution_count": 22,
     "metadata": {},
     "output_type": "execute_result"
    }
   ],
   "source": [
    "df.columns"
   ]
  },
  {
   "cell_type": "code",
   "execution_count": 23,
   "metadata": {},
   "outputs": [],
   "source": [
    "x_y = df[df.columns.values]"
   ]
  },
  {
   "cell_type": "code",
   "execution_count": 24,
   "metadata": {
    "ExecuteTime": {
     "end_time": "2020-10-23T01:48:31.034898Z",
     "start_time": "2020-10-23T01:48:31.032398Z"
    }
   },
   "outputs": [],
   "source": [
    "import pickle\n",
    "import pandas as pd"
   ]
  },
  {
   "cell_type": "code",
   "execution_count": 25,
   "metadata": {
    "ExecuteTime": {
     "end_time": "2020-10-23T01:51:29.214933Z",
     "start_time": "2020-10-23T01:51:29.128896Z"
    }
   },
   "outputs": [],
   "source": [
    "filename = 'finalized_model2.sav'\n",
    "pickle.dump(model, open(filename, 'wb'))"
   ]
  },
  {
   "cell_type": "code",
   "execution_count": 26,
   "metadata": {
    "ExecuteTime": {
     "end_time": "2020-10-23T01:51:29.698452Z",
     "start_time": "2020-10-23T01:51:29.693938Z"
    }
   },
   "outputs": [],
   "source": [
    "filename = 'x_dummies_column2.sav'\n",
    "pickle.dump(features.columns, open(filename , 'wb'))"
   ]
  },
  {
   "cell_type": "code",
   "execution_count": 27,
   "metadata": {
    "ExecuteTime": {
     "end_time": "2020-10-23T01:51:29.999180Z",
     "start_time": "2020-10-23T01:51:29.996678Z"
    }
   },
   "outputs": [],
   "source": [
    "# filename = 'real_colomn.sav'\n",
    "# pickle.dump(x_y.drop('Price',axis=1).columns, open(filename , 'wb'))"
   ]
  },
  {
   "cell_type": "code",
   "execution_count": 28,
   "metadata": {
    "ExecuteTime": {
     "end_time": "2020-10-23T01:51:30.172861Z",
     "start_time": "2020-10-23T01:51:30.165868Z"
    }
   },
   "outputs": [
    {
     "data": {
      "text/plain": [
       "array(['yes', 'no'], dtype=object)"
      ]
     },
     "execution_count": 28,
     "metadata": {},
     "output_type": "execute_result"
    }
   ],
   "source": [
    "x_y.arthritis.unique()"
   ]
  },
  {
   "cell_type": "code",
   "execution_count": 29,
   "metadata": {},
   "outputs": [
    {
     "data": {
      "text/plain": [
       "array(['yes', 'no'], dtype=object)"
      ]
     },
     "execution_count": 29,
     "metadata": {},
     "output_type": "execute_result"
    }
   ],
   "source": [
    "x_y['overweight'].unique()"
   ]
  },
  {
   "cell_type": "code",
   "execution_count": 30,
   "metadata": {},
   "outputs": [
    {
     "data": {
      "text/plain": [
       "array(['yes', 'no'], dtype=object)"
      ]
     },
     "execution_count": 30,
     "metadata": {},
     "output_type": "execute_result"
    }
   ],
   "source": [
    "x_y['high_bp'].unique()"
   ]
  },
  {
   "cell_type": "code",
   "execution_count": 31,
   "metadata": {},
   "outputs": [
    {
     "data": {
      "text/plain": [
       "array(['no', 'yes'], dtype=object)"
      ]
     },
     "execution_count": 31,
     "metadata": {},
     "output_type": "execute_result"
    }
   ],
   "source": [
    "x_y['high_chol'].unique()"
   ]
  },
  {
   "cell_type": "code",
   "execution_count": null,
   "metadata": {},
   "outputs": [],
   "source": []
  },
  {
   "cell_type": "code",
   "execution_count": 32,
   "metadata": {
    "ExecuteTime": {
     "end_time": "2020-10-23T01:51:30.801567Z",
     "start_time": "2020-10-23T01:51:30.697054Z"
    }
   },
   "outputs": [],
   "source": [
    "model = pickle.load(open('finalized_model2.sav','rb'))\n",
    "# real_columns = pickle.load(open('real_colomn.sav','rb'))\n",
    "one_hot_columns = pickle.load(open('x_dummies_column2.sav','rb'))\n",
    "\n",
    "def prediction(data):\n",
    "    df = pd.DataFrame(data,index=[0])\n",
    "    df = pd.get_dummies(df)\n",
    "    df = df.reindex(columns=one_hot_columns, )\n",
    "    hasil = model.predict(df)\n",
    "    return round(hasil[0])"
   ]
  },
  {
   "cell_type": "code",
   "execution_count": 33,
   "metadata": {},
   "outputs": [
    {
     "data": {
      "text/plain": [
       "case2_diabet                           1\n",
       "arthritis                             no\n",
       "overweight                            no\n",
       "high_bp                               no\n",
       "high_chol                            yes\n",
       "systolic                             108\n",
       "bmi                                 21.3\n",
       "WH_ratio                            0.95\n",
       "head%_fat                           23.5\n",
       "glucose_mg/dL                         98\n",
       "vigorous_recreational_activities     yes\n",
       "Name: 1, dtype: object"
      ]
     },
     "execution_count": 33,
     "metadata": {},
     "output_type": "execute_result"
    }
   ],
   "source": [
    "df.iloc[1,:]"
   ]
  },
  {
   "cell_type": "code",
   "execution_count": 34,
   "metadata": {
    "ExecuteTime": {
     "end_time": "2020-10-23T01:51:31.163948Z",
     "start_time": "2020-10-23T01:51:31.160437Z"
    }
   },
   "outputs": [],
   "source": [
    "inputan = {'arthritis': 'yes', 'overweight': 'yes', 'high_bp': 'yes', 'high_chol': 'no',\n",
    "           'systolic':108,'bmi':31.7,'glucose_mg/dL':98, 'WH_ratio':0.93,'head%_fat':23.5,'vigorous_recreational_activities': 'no'}"
   ]
  },
  {
   "cell_type": "code",
   "execution_count": 35,
   "metadata": {
    "ExecuteTime": {
     "end_time": "2020-10-23T01:51:31.410009Z",
     "start_time": "2020-10-23T01:51:31.385994Z"
    }
   },
   "outputs": [
    {
     "name": "stdout",
     "output_type": "stream",
     "text": [
      "Hasil prediksi : 1\n",
      "Hasil proba : [[0.66133419 0.33866581]]\n"
     ]
    }
   ],
   "source": [
    "df = pd.DataFrame(inputan,index=[0])\n",
    "# one hot encoding (categorical item berubah menjadi numerical item (columns))\n",
    "df = pd.get_dummies(df)\n",
    "df = df.reindex(columns=one_hot_columns, fill_value=0)\n",
    "hasil_prediction = model.predict(df)\n",
    "print(f'Hasil prediksi : {hasil_prediction[0]}')\n",
    "probability = model.predict_proba(df)\n",
    "print(f'Hasil proba : {probability}')"
   ]
  },
  {
   "cell_type": "code",
   "execution_count": 36,
   "metadata": {},
   "outputs": [
    {
     "data": {
      "text/plain": [
       "0.33866580519704226"
      ]
     },
     "execution_count": 36,
     "metadata": {},
     "output_type": "execute_result"
    }
   ],
   "source": [
    "probability[0,1]"
   ]
  },
  {
   "cell_type": "code",
   "execution_count": 37,
   "metadata": {},
   "outputs": [
    {
     "name": "stdout",
     "output_type": "stream",
     "text": [
      "You are in Moderate Risk prediabetes/ undiagnose diabetes\n"
     ]
    }
   ],
   "source": [
    "if probability[0,1] < 0.3:\n",
    "    print('You are in Low Risk prediabetes/ undiagnose diabetes')\n",
    "elif probability[0,1] < 0.6:\n",
    "    print('You are in Moderate Risk prediabetes/ undiagnose diabetes')\n",
    "else:\n",
    "    print('You are in High Risk prediabetes/ undiagnose diabetes')"
   ]
  },
  {
   "cell_type": "code",
   "execution_count": null,
   "metadata": {},
   "outputs": [],
   "source": []
  },
  {
   "cell_type": "code",
   "execution_count": null,
   "metadata": {},
   "outputs": [],
   "source": []
  },
  {
   "cell_type": "code",
   "execution_count": null,
   "metadata": {},
   "outputs": [],
   "source": []
  },
  {
   "cell_type": "code",
   "execution_count": null,
   "metadata": {},
   "outputs": [],
   "source": []
  }
 ],
 "metadata": {
  "kernelspec": {
   "display_name": "Python 3",
   "language": "python",
   "name": "python3"
  },
  "language_info": {
   "codemirror_mode": {
    "name": "ipython",
    "version": 3
   },
   "file_extension": ".py",
   "mimetype": "text/x-python",
   "name": "python",
   "nbconvert_exporter": "python",
   "pygments_lexer": "ipython3",
   "version": "3.7.6"
  }
 },
 "nbformat": 4,
 "nbformat_minor": 4
}
